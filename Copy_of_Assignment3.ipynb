{
  "nbformat": 4,
  "nbformat_minor": 0,
  "metadata": {
    "colab": {
      "name": "Copy of Assignment3.ipynb",
      "provenance": [],
      "collapsed_sections": [],
      "include_colab_link": true
    },
    "kernelspec": {
      "name": "python3",
      "display_name": "Python 3"
    }
  },
  "cells": [
    {
      "cell_type": "markdown",
      "metadata": {
        "id": "view-in-github",
        "colab_type": "text"
      },
      "source": [
        "<a href=\"https://colab.research.google.com/github/Sean-1005/JSC720_A3/blob/main/Copy_of_Assignment3.ipynb\" target=\"_parent\"><img src=\"https://colab.research.google.com/assets/colab-badge.svg\" alt=\"Open In Colab\"/></a>"
      ]
    },
    {
      "cell_type": "markdown",
      "metadata": {
        "id": "1ESjluHCq-UC"
      },
      "source": [
        "**1. Bayesian Simulation (18 pts)**\r\n"
      ]
    },
    {
      "cell_type": "markdown",
      "metadata": {
        "id": "-UfXhCiOrH-G"
      },
      "source": [
        "(D) simulate 1000 draws each from the prior and posterior\r\n",
        "distributions you derived earlier. Assume a dataset of 20 individuals, 4 of whom have contracted the disease\r\n",
        "(i.e. n = 20, $Σ^{n}_{i=1}xi$ = 4). "
      ]
    },
    {
      "cell_type": "code",
      "metadata": {
        "colab": {
          "base_uri": "https://localhost:8080/",
          "height": 315
        },
        "id": "q6_EZXFMKtp4",
        "outputId": "c0939d59-172c-4358-e863-5815589a4380"
      },
      "source": [
        "import numpy as np\r\n",
        "import matplotlib.pyplot as plt\r\n",
        "np.random.seed(7)\r\n",
        "\r\n",
        "prior_result_D = [np.random.beta(1, 1) for i in range(1000)]\r\n",
        "post_result_D = [np.random.beta(5, 17) for i in range(1000)]\r\n",
        "\r\n",
        "plt.hist(prior_result_D, alpha=0.5, label=\"Prior\")\r\n",
        "plt.hist(post_result_D, alpha=0.5, label=\"Posterior\")\r\n",
        "plt.legend(loc='upper right')\r\n",
        "plt.show()\r\n",
        "\r\n",
        "print(\"The mean of the prior is\", np.mean(prior_result_D))\r\n",
        "print(\"The mean of the posterior is\", np.mean(post_result_D))\r\n",
        "print(\"The mean of the traditional likelihood estimate is\", 4/20)\r\n"
      ],
      "execution_count": null,
      "outputs": [
        {
          "output_type": "display_data",
          "data": {
            "image/png": "[encoded data removed]",
            "text/plain": [
              "<Figure size 432x288 with 1 Axes>"
            ]
          },
          "metadata": {
            "tags": [],
            "needs_background": "light"
          }
        },
        {
          "output_type": "stream",
          "text": [
            "The mean of the prior is 0.503603914804966\n",
            "The mean of the posterior is 0.2270942337409431\n",
            "The mean of the traditional likelihood estimate is 0.2\n"
          ],
          "name": "stdout"
        }
      ]
    },
    {
      "cell_type": "markdown",
      "metadata": {
        "id": "mvBw_OAFzlMJ"
      },
      "source": [
        "(E) To encode this belief, we change the hyperparameters of our prior to a = 1, b = 3. Simulate\r\n",
        "1000 draws each from the prior and posterior distributions using the new hyperparameters. Assume a dataset\r\n",
        "identical to the one in part D (ie. n = 20, $Σ^{n}_{i=1}xi$ = 4)."
      ]
    },
    {
      "cell_type": "code",
      "metadata": {
        "colab": {
          "base_uri": "https://localhost:8080/",
          "height": 315
        },
        "id": "zQzOv-Kvzygh",
        "outputId": "83522394-324a-4fcc-8981-11446055b03e"
      },
      "source": [
        "import numpy as np\r\n",
        "import matplotlib.pyplot as plt\r\n",
        "np.random.seed(7)\r\n",
        "\r\n",
        "prior_result_E = [np.random.beta(1, 3) for i in range(1000)]\r\n",
        "post_result_E = [np.random.beta(5, 19) for i in range(1000)]\r\n",
        "\r\n",
        "plt.hist(prior_result_E, alpha=0.5, label=\"Prior\")\r\n",
        "plt.hist(post_result_E, alpha=0.5, label=\"Posterior\")\r\n",
        "plt.legend(loc='upper right')\r\n",
        "plt.show()\r\n",
        "\r\n",
        "print(\"The mean of the prior is\", np.mean(prior_result_E))\r\n",
        "print(\"The mean of the posterior is\", np.mean(post_result_E))\r\n",
        "print(\"The mean of the traditional likelihood estimate is\", 4/20)"
      ],
      "execution_count": null,
      "outputs": [
        {
          "output_type": "display_data",
          "data": {
            "image/png": "[encoded data removed]",
            "text/plain": [
              "<Figure size 432x288 with 1 Axes>"
            ]
          },
          "metadata": {
            "tags": [],
            "needs_background": "light"
          }
        },
        {
          "output_type": "stream",
          "text": [
            "The mean of the prior is 0.24754468212565187\n",
            "The mean of the posterior is 0.20588488596034377\n",
            "The mean of the traditional likelihood estimate is 0.2\n"
          ],
          "name": "stdout"
        }
      ]
    },
    {
      "cell_type": "markdown",
      "metadata": {
        "id": "b34rZ5RM0Wz_"
      },
      "source": [
        "(F) Now suppose we have the same prior as in E (a = 1, b = 3), but we get a different dataset:\r\n",
        "n = 20, $Σ^{n}_{i=1}xi$ = 12. Simulate 1000 draws each from the prior and posterior distributions using the new\r\n",
        "dataset. "
      ]
    },
    {
      "cell_type": "code",
      "metadata": {
        "colab": {
          "base_uri": "https://localhost:8080/",
          "height": 315
        },
        "id": "6iuGF0L60gkQ",
        "outputId": "3694c90a-675c-49fc-975c-8b7aa63103cc"
      },
      "source": [
        "import numpy as np\r\n",
        "import matplotlib.pyplot as plt\r\n",
        "np.random.seed(7)\r\n",
        "\r\n",
        "prior_result_F = [np.random.beta(1, 3) for i in range(1000)]\r\n",
        "post_result_F = [np.random.beta(13, 11) for i in range(1000)]\r\n",
        "\r\n",
        "plt.hist(prior_result_F, alpha=0.5, label=\"Prior\")\r\n",
        "plt.hist(post_result_F, alpha=0.5, label=\"Posterior\")\r\n",
        "plt.legend(loc='upper right')\r\n",
        "plt.show()\r\n",
        "\r\n",
        "print(\"The mean of the prior is\", np.mean(prior_result_F))\r\n",
        "print(\"The mean of the posterior is\", np.mean(post_result_F))\r\n",
        "print(\"The mean of the traditional likelihood estimate is\", 12/20)"
      ],
      "execution_count": null,
      "outputs": [
        {
          "output_type": "display_data",
          "data": {
            "image/png": "[encoded data removed]",
            "text/plain": [
              "<Figure size 432x288 with 1 Axes>"
            ]
          },
          "metadata": {
            "tags": [],
            "needs_background": "light"
          }
        },
        {
          "output_type": "stream",
          "text": [
            "The mean of the prior is 0.24754468212565187\n",
            "The mean of the posterior is 0.5445295312872713\n",
            "The mean of the traditional likelihood estimate is 0.6\n"
          ],
          "name": "stdout"
        }
      ]
    },
    {
      "cell_type": "markdown",
      "metadata": {
        "id": "d55RlKN7BA8U"
      },
      "source": [
        "**2. Asymptotic Behavior (15 pts)**"
      ]
    },
    {
      "cell_type": "markdown",
      "metadata": {
        "id": "Ur6WfxTMBHAa"
      },
      "source": [
        "(B) Suppose now that we know the exact distribution of X is given by λ = 2. In python, generate\r\n",
        "6 different random samples from this distribution with sizes {10, 20, 50, 100, 500, 2000}. "
      ]
    },
    {
      "cell_type": "code",
      "metadata": {
        "colab": {
          "base_uri": "https://localhost:8080/",
          "height": 265
        },
        "id": "o852Ng9HBNMI",
        "outputId": "9c44a21f-07d7-4420-e58b-6718123109aa"
      },
      "source": [
        "import numpy as np\r\n",
        "import matplotlib.pyplot as plt\r\n",
        "np.random.seed(7)\r\n",
        "\r\n",
        "e1 = np.random.exponential(0.5, 10)\r\n",
        "e2 = np.random.exponential(0.5, 20)\r\n",
        "e3 = np.random.exponential(0.5, 50)\r\n",
        "e4 = np.random.exponential(0.5, 100)\r\n",
        "e5 = np.random.exponential(0.5, 500)\r\n",
        "e6 = np.random.exponential(0.5, 2000)\r\n",
        "\r\n",
        "plt.hist(e1, alpha = 0.5, label=\"size 10\")\r\n",
        "plt.legend(loc='upper right')\r\n",
        "plt.show()"
      ],
      "execution_count": null,
      "outputs": [
        {
          "output_type": "display_data",
          "data": {
            "image/png": "[encoded data removed]",
            "text/plain": [
              "<Figure size 432x288 with 1 Axes>"
            ]
          },
          "metadata": {
            "tags": [],
            "needs_background": "light"
          }
        }
      ]
    },
    {
      "cell_type": "code",
      "metadata": {
        "colab": {
          "base_uri": "https://localhost:8080/",
          "height": 265
        },
        "id": "sykCS5gHCXJm",
        "outputId": "7886cc4e-d8e3-4477-de82-82cb9dac83fb"
      },
      "source": [
        "plt.hist(e2, alpha = 0.5, label=\"size 20\")\r\n",
        "plt.legend(loc='upper right')\r\n",
        "plt.show()"
      ],
      "execution_count": null,
      "outputs": [
        {
          "output_type": "display_data",
          "data": {
            "image/png": "[encoded data removed]",
            "text/plain": [
              "<Figure size 432x288 with 1 Axes>"
            ]
          },
          "metadata": {
            "tags": [],
            "needs_background": "light"
          }
        }
      ]
    },
    {
      "cell_type": "code",
      "metadata": {
        "colab": {
          "base_uri": "https://localhost:8080/",
          "height": 349
        },
        "id": "irZzM-NHCbia",
        "outputId": "ba38e22e-bf36-4e20-a599-c45b975cbbf6"
      },
      "source": [
        "plt.hist(e3, alpha = 0.5, label=\"size 50\")\r\n",
        "plt.legend(loc='upper right')\r\n",
        "plt.show()"
      ],
      "execution_count": null,
      "outputs": [
        {
          "output_type": "execute_result",
          "data": {
            "text/plain": [
              "(array([ 9., 20.,  6.,  5.,  3.,  3.,  0.,  1.,  1.,  2.]),\n",
              " array([7.13949763e-04, 1.68221504e-01, 3.35729057e-01, 5.03236611e-01,\n",
              "        6.70744165e-01, 8.38251719e-01, 1.00575927e+00, 1.17326683e+00,\n",
              "        1.34077438e+00, 1.50828193e+00, 1.67578949e+00]),\n",
              " <a list of 10 Patch objects>)"
            ]
          },
          "metadata": {
            "tags": []
          },
          "execution_count": 30
        },
        {
          "output_type": "display_data",
          "data": {
            "image/png": "[encoded data removed]",
            "text/plain": [
              "<Figure size 432x288 with 1 Axes>"
            ]
          },
          "metadata": {
            "tags": [],
            "needs_background": "light"
          }
        }
      ]
    },
    {
      "cell_type": "code",
      "metadata": {
        "colab": {
          "base_uri": "https://localhost:8080/",
          "height": 265
        },
        "id": "YbnoZyZACebH",
        "outputId": "78284ade-aae7-4a51-a9bd-41de29cc3035"
      },
      "source": [
        "plt.hist(e4, alpha = 0.5, label=\"size 100\")\r\n",
        "plt.legend(loc='upper right')\r\n",
        "plt.show()"
      ],
      "execution_count": null,
      "outputs": [
        {
          "output_type": "display_data",
          "data": {
            "image/png": "[encoded data removed]",
            "text/plain": [
              "<Figure size 432x288 with 1 Axes>"
            ]
          },
          "metadata": {
            "tags": [],
            "needs_background": "light"
          }
        }
      ]
    },
    {
      "cell_type": "code",
      "metadata": {
        "colab": {
          "base_uri": "https://localhost:8080/",
          "height": 265
        },
        "id": "JEcpiLR3Cr_N",
        "outputId": "00189c10-6fc6-4117-c0b5-815a91e06a43"
      },
      "source": [
        "plt.hist(e5, alpha = 0.5, label=\"size 500\")\r\n",
        "plt.legend(loc='upper right')\r\n",
        "plt.show()"
      ],
      "execution_count": null,
      "outputs": [
        {
          "output_type": "display_data",
          "data": {
            "image/png": "[encoded data removed]",
            "text/plain": [
              "<Figure size 432x288 with 1 Axes>"
            ]
          },
          "metadata": {
            "tags": [],
            "needs_background": "light"
          }
        }
      ]
    },
    {
      "cell_type": "code",
      "metadata": {
        "colab": {
          "base_uri": "https://localhost:8080/",
          "height": 265
        },
        "id": "HS4ks3-nCwsO",
        "outputId": "c483f928-2172-410f-cbea-452c00583ba9"
      },
      "source": [
        "plt.hist(e6, alpha = 0.5, label=\"size 2000\")\r\n",
        "plt.legend(loc='upper right')\r\n",
        "plt.show()"
      ],
      "execution_count": null,
      "outputs": [
        {
          "output_type": "display_data",
          "data": {
            "image/png": "[encoded data removed]",
            "text/plain": [
              "<Figure size 432x288 with 1 Axes>"
            ]
          },
          "metadata": {
            "tags": [],
            "needs_background": "light"
          }
        }
      ]
    },
    {
      "cell_type": "markdown",
      "metadata": {
        "id": "UG_IN5MwrsNT"
      },
      "source": [
        "(C)"
      ]
    },
    {
      "cell_type": "code",
      "metadata": {
        "colab": {
          "base_uri": "https://localhost:8080/",
          "height": 265
        },
        "id": "ze7kZDAODCV1",
        "outputId": "e2bd1baf-1bee-479a-c061-e838da8270cd"
      },
      "source": [
        "mean_exp = [np.mean(e1), np.mean(e2), np.mean(e3), np.mean(e4), np.mean(e5), np.mean(e6)]\r\n",
        "x = ['10', '20', '50', '100', '500', '2000']\r\n",
        "plt.bar(x, mean_exp)\r\n",
        "plt.axhline(np.mean(mean_exp), color = 'r')\r\n",
        "plt.show()"
      ],
      "execution_count": null,
      "outputs": [
        {
          "output_type": "display_data",
          "data": {
            "image/png": "[encoded data removed]",
            "text/plain": [
              "<Figure size 432x288 with 1 Axes>"
            ]
          },
          "metadata": {
            "tags": [],
            "needs_background": "light"
          }
        }
      ]
    },
    {
      "cell_type": "markdown",
      "metadata": {
        "id": "Br5T33eNvt8h"
      },
      "source": [
        "**3. Bootstraping**"
      ]
    },
    {
      "cell_type": "markdown",
      "metadata": {
        "id": "3zkmH5TUiz_u"
      },
      "source": [
        "(A) Simulate 1000 observations using the given datas."
      ]
    },
    {
      "cell_type": "code",
      "metadata": {
        "id": "QmVtE-7N3EeC"
      },
      "source": [
        "import numpy as np\r\n",
        "import random\r\n",
        "import math\r\n",
        "from sklearn.utils.validation import column_or_1d\r\n",
        "\r\n",
        "def simulate_data(N):\r\n",
        "  # Given values to each variable\r\n",
        "  t = 2\r\n",
        "  beta_0 = 5\r\n",
        "  beta_1 = 0.6\r\n",
        "  beta_2 = 0.8\r\n",
        "  beta_3 = 0.4\r\n",
        "  c = 0.5 # Threshold\r\n",
        "  range_d = [0, 1, 2, 3, 4]\r\n",
        "\r\n",
        "  # Generate features\r\n",
        "  x1_n = np.random.uniform(-100, 100, size=N) # Uniform(-100, 100)\r\n",
        "  x2_n = np.random.uniform(-150, 150, size=N) # Uniform(-150, 150)\r\n",
        "  d_n = random.choices(range_d, k=N)          # Random values from [0, 1, 2, 3, 4]\r\n",
        "\r\n",
        "  x = []\r\n",
        "  for i in range(N):\r\n",
        "    x.append(x1_n[i])\r\n",
        "    x.append(x2_n[i])\r\n",
        "    x.append(d_n[i])\r\n",
        "\r\n",
        "  x = np.reshape(x,newshape=(N,3))\r\n",
        "  # print('shape of x:',x.shape)\r\n",
        "  # Generate errors\r\n",
        "  eps = np.random.normal(0,t*t,size = N)\r\n",
        "  eps = np.reshape(eps, newshape=(N,1))\r\n",
        "  # print('shape of eps:',eps.shape)\r\n",
        "  # Generate response (including error)\r\n",
        "  input = []\r\n",
        "  for i in range(N):\r\n",
        "    input.append(beta_0 + beta_1*(x1_n[i]) + beta_2*(x2_n[i]) + beta_3*(d_n[i]) + (eps[i]))\r\n",
        "\r\n",
        "  pi_i = []\r\n",
        "  for i in range(N):\r\n",
        "    pi_i.append(math.exp(input[i])/(1+math.exp(input[i])))\r\n",
        "  pi_i = np.reshape(pi_i, (N, 1))\r\n",
        "\r\n",
        "  # Generate new binary target\r\n",
        "  y = (pi_i > c).astype(float)\r\n",
        "\r\n",
        "  X = x\r\n",
        "  # Note that cap x is different from lower x\r\n",
        "  # print(X.shape)\r\n",
        "  # print(y.shape)\r\n",
        "  return X,y\r\n",
        "\r\n",
        "data = simulate_data(1000)\r\n",
        "X, y = data[0], data[1]"
      ],
      "execution_count": null,
      "outputs": []
    },
    {
      "cell_type": "markdown",
      "metadata": {
        "id": "SIb98C_muGzw"
      },
      "source": [
        "(B). Split the simulated data into training and testing sets. Use a 80/20 split. Fit a logistic regression model to the training data, and plot the ROC curve associated with prediction of the\r\n",
        "test set. "
      ]
    },
    {
      "cell_type": "code",
      "metadata": {
        "id": "_vcz61wrvtlw",
        "colab": {
          "base_uri": "https://localhost:8080/"
        },
        "outputId": "08ba74c4-9890-4a5a-9384-5f8e3756f724"
      },
      "source": [
        "from sklearn.model_selection import train_test_split\r\n",
        "from sklearn.linear_model import LogisticRegression\r\n",
        "from sklearn.preprocessing import StandardScaler\r\n",
        "from sklearn.metrics import accuracy_score\r\n",
        "\r\n",
        "data = simulate_data(1000)\r\n",
        "X, y = data[0], data[1]\r\n",
        "\r\n",
        "# Instantiate the transformer object\r\n",
        "std_scaler = StandardScaler()\r\n",
        "\r\n",
        "# Fit to data (subtract mean and divide by SD for each column)\r\n",
        "X = std_scaler.fit_transform(X)\r\n",
        "\r\n",
        "# New train_test split (again, 80/20)\r\n",
        "X_train, X_test, y_train, y_test = train_test_split(X, y, test_size = 0.2, shuffle = True, random_state = 10)\r\n",
        "\r\n",
        "# Instantiate the model object\r\n",
        "logit = LogisticRegression(fit_intercept = True, max_iter=1000, penalty='none')\r\n",
        "\r\n",
        "# Fit the model to the data\r\n",
        "logit.fit(X_train, np.ravel(y_train))\r\n",
        "\r\n",
        "# Examine the coefficients and intercept\r\n",
        "print('Logistic Regression Coefficients:\\n',logit.coef_)\r\n",
        "print('Intercept:\\n', logit.intercept_)\r\n",
        "\r\n",
        "# Get fitted values from training set\r\n",
        "y_train_preds_lr = logit.predict(X_train)\r\n",
        "\r\n",
        "# Get fitted values from test set\r\n",
        "y_test_preds_lr = logit.predict(X_test)\r\n",
        "\r\n",
        "# Print train and test errors\r\n",
        "train_acc = accuracy_score(y_train, y_train_preds_lr)\r\n",
        "test_acc = accuracy_score(y_test, y_test_preds_lr)\r\n",
        "\r\n",
        "print('Train Accuracy: ',train_acc)\r\n",
        "print('Test Accuracy: ',test_acc)\r\n",
        "\r\n"
      ],
      "execution_count": null,
      "outputs": [
        {
          "output_type": "stream",
          "text": [
            "Logistic Regression Coefficients:\n",
            " [[15.05652748 29.46081105  1.10218234]]\n",
            "Intercept:\n",
            " [2.79913828]\n",
            "Train Accuracy:  0.985\n",
            "Test Accuracy:  0.975\n"
          ],
          "name": "stdout"
        }
      ]
    },
    {
      "cell_type": "code",
      "metadata": {
        "colab": {
          "base_uri": "https://localhost:8080/",
          "height": 295
        },
        "id": "ofmpmWtvyQB_",
        "outputId": "40f499d4-691d-496b-e853-9820e3c50b0d"
      },
      "source": [
        "import matplotlib.pyplot as plt\r\n",
        "\r\n",
        "# Plot the ROC curve for random forest\r\n",
        "fpr, tpr, thresholds = roc_curve(t_test, t_test_preds_lr, pos_label = 1)\r\n",
        "\r\n",
        "plt.plot(fpr,tpr)\r\n",
        "plt.xlabel('False Positive Rate')\r\n",
        "plt.ylabel('True Positive Rate')\r\n",
        "plt.title('Receiver Operator Characteristic (ROC) Curve for Logit')\r\n",
        "plt.show()\r\n"
      ],
      "execution_count": null,
      "outputs": [
        {
          "output_type": "display_data",
          "data": {
            "image/png": "[encoded data removed]",
            "text/plain": [
              "<Figure size 432x288 with 1 Axes>"
            ]
          },
          "metadata": {
            "tags": [],
            "needs_background": "light"
          }
        }
      ]
    },
    {
      "cell_type": "markdown",
      "metadata": {
        "id": "k2iwOjsJ2x_R"
      },
      "source": [
        "(C) Now you’ll implement the bootstrapping algorithm described earlier to fit a large number of decision trees. The strategy here, using the entire simulated sample (not split into train and test) is:\r\n",
        "\r\n",
        "i) Generate B resamples (xj , yj ) from the main sample (sampling with replacement).\r\n",
        "\r\n",
        "ii) Fit a Decision Tree Classifier to each resample.\r\n",
        "\r\n",
        "iii) Use the fitted model to obtain a performance measure on the out-of-bag (OOB) observations. You may\r\n",
        "choose whichever performance measure you wish (classification error, AUC, precison, recall, F1 score, etc.)."
      ]
    },
    {
      "cell_type": "code",
      "metadata": {
        "id": "lKMUsrLk3EXU"
      },
      "source": [
        "from sklearn.ensemble import RandomForestClassifier\r\n",
        "from sklearn.metrics import *\r\n",
        "\r\n",
        "B = 5000\r\n",
        "N = 1000\r\n",
        "result = []\r\n",
        "\r\n",
        "for j in range(B):\r\n",
        "  # generate resample j of size M from main sample(sampling uniformly with replacement)\r\n",
        "  data = simulate_data(N)\r\n",
        "  X, y = data[0], data[1] \r\n",
        "\r\n",
        "  # Instantiate the model object\r\n",
        "  rfclf = RandomForestClassifier(n_estimators = 50, max_depth = 6, random_state = 10, max_features='log2')\r\n",
        "  # Fit the model to the data\r\n",
        "  rfclf.fit(X, np.ravel(y))\r\n",
        "\r\n",
        "  # Compute resample evaluation metric on remaining out of bag observations\r\n",
        "  # F1 Score[2*(Precision*Recall)/(Precision + Recall)]\r\n",
        "  y_preds_rf = rfclf.predict(X)\r\n",
        "  f1_rf = f1_score(y, y_preds_rf)\r\n",
        "  result.append(f1_rf)"
      ],
      "execution_count": null,
      "outputs": []
    },
    {
      "cell_type": "markdown",
      "metadata": {
        "id": "fXwij30s7ERs"
      },
      "source": [
        "(D) Provide a plot showing the distribution of the bootstrapped out-of-sample performance metrics.\r\n"
      ]
    },
    {
      "cell_type": "code",
      "metadata": {
        "colab": {
          "base_uri": "https://localhost:8080/",
          "height": 295
        },
        "id": "8QZWwipy7D8i",
        "outputId": "20c17fe2-2e6a-4a4a-9992-645d2cc444a0"
      },
      "source": [
        "import matplotlib.pyplot as plt\r\n",
        "plt.hist(result)\r\n",
        "plt.xlabel('F1 Score')\r\n",
        "plt.title('Distribution of the Bootstrapped out-of-sample Performance Metrics')\r\n",
        "plt.show()"
      ],
      "execution_count": null,
      "outputs": [
        {
          "output_type": "display_data",
          "data": {
            "image/png": "[encoded data removed]",
            "text/plain": [
              "<Figure size 432x288 with 1 Axes>"
            ]
          },
          "metadata": {
            "tags": [],
            "needs_background": "light"
          }
        }
      ]
    },
    {
      "cell_type": "markdown",
      "metadata": {
        "id": "BhUA_l3yMNQY"
      },
      "source": [
        "(E)  Compute the mean of the distribution you found in part D. Compare it to the performance of\r\n",
        "your logistic classifier in part A (you may need to find the matching metric from your logistic classifier to\r\n",
        "make a proper comparison). Which method performs better? Why do you think that is?\r\n"
      ]
    },
    {
      "cell_type": "code",
      "metadata": {
        "colab": {
          "base_uri": "https://localhost:8080/"
        },
        "id": "LpHoCL7WMUhw",
        "outputId": "10b7451a-b4da-4e75-b08f-957abc37ac10"
      },
      "source": [
        "mean_rf = np.mean(result)\r\n",
        "print(\"mean_rf: \", mean_rf)\r\n",
        "\r\n",
        "test_f1_lr = f1_score(t_test, t_test_preds_lr)\r\n",
        "print(\"test_f1_lr: \", test_f1_lr)"
      ],
      "execution_count": null,
      "outputs": [
        {
          "output_type": "stream",
          "text": [
            "mean_rf:  0.996848245950433\n",
            "train_f1_lr:  0.9906759906759907\n",
            "test_f1_lr:  0.9857819905213271\n"
          ],
          "name": "stdout"
        }
      ]
    },
    {
      "cell_type": "markdown",
      "metadata": {
        "id": "0Rzg-EiZetzN"
      },
      "source": [
        "I use F1-score as the performance measure. The mean of the distribution in part(D) is 0.996848245950433. And the F1-score of training and test sets in part(A) are 0.9906759906759907 and 0.9857819905213271. Both of the f1-score are extremely high and close to 1. But the F1-score for the random forest model is higher than the logistic regression model. Thus, if we do not consider the running time for these two methods, the random forest model is better. "
      ]
    }
  ]
}